{
 "cells": [
  {
   "cell_type": "markdown",
   "metadata": {},
   "source": [
    "# Level One Problems\n",
    "The first 25 problems from *Project Euler*.\n",
    "\n",
    "**Have fun!**"
   ]
  },
  {
   "cell_type": "markdown",
   "metadata": {},
   "source": [
    "## Problem 1"
   ]
  },
  {
   "cell_type": "code",
   "execution_count": 2,
   "metadata": {},
   "outputs": [
    {
     "name": "stdout",
     "output_type": "stream",
     "text": [
      "Sum of all the multiples of 3 or 5 below 1000: 233168\n",
      "Sum of all the multiples of 3 or 5 below 10: 23\n"
     ]
    }
   ],
   "source": [
    "def sum_of_multiples_of_3_or_5(n):\n",
    "  \"\"\"Determines the sum of all the multiples of 3 or 5 below n\n",
    "\n",
    "  Args:\n",
    "      n (int): The number we are looking for multiples below\n",
    "\n",
    "  Returns:\n",
    "      int: sum of all the multiples of 3 or 5 below n\n",
    "  \"\"\"\n",
    "  sum = 0\n",
    "  for i in range(n):\n",
    "    if i % 3 == 0 or i % 5 == 0:\n",
    "      sum += i\n",
    "  return sum\n",
    "\n",
    "print(\"Sum of all the multiples of 3 or 5 below 1000: {}\".format(sum_of_multiples_of_3_or_5(1000)))\n",
    "print(\"Sum of all the multiples of 3 or 5 below 10: {}\".format(sum_of_multiples_of_3_or_5(10)))"
   ]
  },
  {
   "cell_type": "code",
   "execution_count": null,
   "metadata": {},
   "outputs": [],
   "source": []
  }
 ],
 "metadata": {
  "kernelspec": {
   "display_name": "jae-env",
   "language": "python",
   "name": "python3"
  },
  "language_info": {
   "codemirror_mode": {
    "name": "ipython",
    "version": 3
   },
   "file_extension": ".py",
   "mimetype": "text/x-python",
   "name": "python",
   "nbconvert_exporter": "python",
   "pygments_lexer": "ipython3",
   "version": "3.12.0"
  }
 },
 "nbformat": 4,
 "nbformat_minor": 2
}
